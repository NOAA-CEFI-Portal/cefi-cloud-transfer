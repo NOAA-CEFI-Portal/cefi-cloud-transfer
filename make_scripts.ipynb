{
 "cells": [
  {
   "cell_type": "code",
   "execution_count": 9,
   "id": "3cc6bbeb-3ff4-4363-8982-98f27300da7b",
   "metadata": {},
   "outputs": [],
   "source": [
    "from siphon.catalog import TDSCatalog\n",
    "from pathlib import Path\n",
    "import os"
   ]
  },
  {
   "cell_type": "markdown",
   "id": "8b3c3920-4c2e-42a3-b117-69a06c78fb5d",
   "metadata": {},
   "source": [
    "This code will make bash scripts that can be run to curl down a local copy of each file in the catalog and pipe it up to the bucket on AWS.\n",
    "\n",
    "You will want to adapt it to either change the links found in the catalog into local file paths, or scan the local directories instead of the catalog\n",
    "\n",
    "There will be duplicate scripts for the latest revision and the one called \"latest\" and there will be old revisions.\n",
    "\n",
    "You only want to run the script for the most recent revision using the revision number (not using the generic \"latest\").\n",
    "\n",
    "\n",
    "Instead of the curl piped to the aws command you want:\n",
    "\n",
    "aws s3 cp PATH_TO_LOCAL_COPY_OF_FILE/btm_co3_ion.nwa.full.hcast.daily.raw.r20230520.199301-201912.nc s3://noaa-oar-cefi-regional-mom6-pds/northwest_atlantic/full_domain/hindcast/daily/raw/r20230520/btm_co3_ion.nwa.full.hcast.daily.raw.r20230520.199301-201912.nc\n",
    "\n",
    "The AWS authentication can be done using a config file in .aws or by running the aws command to take the keys from the command line."
   ]
  },
  {
   "cell_type": "code",
   "execution_count": 10,
   "id": "e5e65cd3-b866-477c-8c02-8b565c95b8a4",
   "metadata": {},
   "outputs": [
    {
     "name": "stdout",
     "output_type": "stream",
     "text": [
      "https://psl.noaa.gov/thredds/catalog/Projects/CEFI/regional_mom6/cefi_portal/\n"
     ]
    }
   ],
   "source": [
    "match = 'cefi_portal'\n",
    "catalog_root = 'https://psl.noaa.gov/thredds/catalog/Projects/CEFI/regional_mom6/cefi_portal/northwest_atlantic/full_domain/catalog.xml'\n",
    "bucket = 's3://noaa-oar-cefi-regional-mom6-pds'\n",
    "\n",
    "os.makedirs(\"catalogs\", exist_ok=True)\n",
    "\n",
    "catalog_prefix_index = catalog_root.find(match)\n",
    "catalog_replace = catalog_root[:catalog_prefix_index + len(match) + 1]\n",
    "print(catalog_replace)"
   ]
  },
  {
   "cell_type": "code",
   "execution_count": 17,
   "id": "b534b99d-80ba-4b4b-a701-4963ec412901",
   "metadata": {},
   "outputs": [],
   "source": [
    "def get_datasets(root):\n",
    "    print(root.catalog_url)\n",
    "    if root.datasets:\n",
    "        filename = root.catalog_url.replace(catalog_replace,'')\n",
    "        filename = filename.replace('/','_')\n",
    "        filename = filename.replace('.xml','.sh')\n",
    "        file_path = Path(f'catalogs/{filename}')\n",
    "        # Create parent directories if they don't exist\n",
    "        file_path.parent.mkdir(parents=True, exist_ok=True)\n",
    "        with open(file_path, 'w') as fp:\n",
    "            fp.write('eval \"$(conda shell.bash hook)\"\\n')\n",
    "            fp.write('mamba activate aws\\n')\n",
    "            for dataset in root.datasets:\n",
    "                access_url = root.datasets[dataset].access_urls['HTTPServer']   \n",
    "                dataset_prefix = access_url.find(match)\n",
    "                url_replace = access_url[:dataset_prefix + len(match) + 1]\n",
    "                outfile = access_url.replace(url_replace,'')\n",
    "                fp.write('date\\n')\n",
    "                fp.write(f'echo {root.datasets[dataset].access_urls['HTTPServer']}\\n')\n",
    "                fp.write(f'curl -s -L {root.datasets[dataset].access_urls['HTTPServer']} | aws s3 cp - {bucket}/{outfile}\\n')\n",
    "                fp.write('date\\n')\n",
    "                fp.write('echo +=+=+=+=+=+=+=\\n')\n",
    "            fp.write('echo \"==== Done =====\"\\n')\n",
    "    for catalog in root.catalog_refs:\n",
    "        child = root.catalog_refs[catalog].follow()\n",
    "        get_datasets(child)"
   ]
  },
  {
   "cell_type": "code",
   "execution_count": 18,
   "id": "492b0d59-681d-48f2-96b6-20a437869940",
   "metadata": {},
   "outputs": [
    {
     "name": "stdout",
     "output_type": "stream",
     "text": [
      "https://psl.noaa.gov/thredds/catalog/Projects/CEFI/regional_mom6/cefi_portal/northwest_atlantic/full_domain/catalog.xml\n",
      "https://psl.noaa.gov/thredds/catalog/Projects/CEFI/regional_mom6/cefi_portal/northwest_atlantic/full_domain/decadal_forecast/catalog.xml\n",
      "https://psl.noaa.gov/thredds/catalog/Projects/CEFI/regional_mom6/cefi_portal/northwest_atlantic/full_domain/decadal_forecast/daily/catalog.xml\n",
      "https://psl.noaa.gov/thredds/catalog/Projects/CEFI/regional_mom6/cefi_portal/northwest_atlantic/full_domain/decadal_forecast/daily/raw/catalog.xml\n",
      "https://psl.noaa.gov/thredds/catalog/Projects/CEFI/regional_mom6/cefi_portal/northwest_atlantic/full_domain/decadal_forecast/daily/regrid/catalog.xml\n",
      "https://psl.noaa.gov/thredds/catalog/Projects/CEFI/regional_mom6/cefi_portal/northwest_atlantic/full_domain/decadal_forecast/monthly/catalog.xml\n",
      "https://psl.noaa.gov/thredds/catalog/Projects/CEFI/regional_mom6/cefi_portal/northwest_atlantic/full_domain/decadal_forecast/monthly/raw/catalog.xml\n",
      "https://psl.noaa.gov/thredds/catalog/Projects/CEFI/regional_mom6/cefi_portal/northwest_atlantic/full_domain/decadal_forecast/monthly/regrid/catalog.xml\n",
      "https://psl.noaa.gov/thredds/catalog/Projects/CEFI/regional_mom6/cefi_portal/northwest_atlantic/full_domain/decadal_forecast/yearly/catalog.xml\n",
      "https://psl.noaa.gov/thredds/catalog/Projects/CEFI/regional_mom6/cefi_portal/northwest_atlantic/full_domain/decadal_forecast/yearly/raw/catalog.xml\n",
      "https://psl.noaa.gov/thredds/catalog/Projects/CEFI/regional_mom6/cefi_portal/northwest_atlantic/full_domain/decadal_forecast/yearly/regrid/catalog.xml\n",
      "https://psl.noaa.gov/thredds/catalog/Projects/CEFI/regional_mom6/cefi_portal/northwest_atlantic/full_domain/hindcast/catalog.xml\n",
      "https://psl.noaa.gov/thredds/catalog/Projects/CEFI/regional_mom6/cefi_portal/northwest_atlantic/full_domain/hindcast/daily/catalog.xml\n",
      "https://psl.noaa.gov/thredds/catalog/Projects/CEFI/regional_mom6/cefi_portal/northwest_atlantic/full_domain/hindcast/daily/raw/catalog.xml\n",
      "https://psl.noaa.gov/thredds/catalog/Projects/CEFI/regional_mom6/cefi_portal/northwest_atlantic/full_domain/hindcast/daily/raw/latest/catalog.xml\n",
      "https://psl.noaa.gov/thredds/catalog/Projects/CEFI/regional_mom6/cefi_portal/northwest_atlantic/full_domain/hindcast/daily/raw/r20230520/catalog.xml\n",
      "https://psl.noaa.gov/thredds/catalog/Projects/CEFI/regional_mom6/cefi_portal/northwest_atlantic/full_domain/hindcast/daily/regrid/catalog.xml\n",
      "https://psl.noaa.gov/thredds/catalog/Projects/CEFI/regional_mom6/cefi_portal/northwest_atlantic/full_domain/hindcast/daily/regrid/latest/catalog.xml\n",
      "https://psl.noaa.gov/thredds/catalog/Projects/CEFI/regional_mom6/cefi_portal/northwest_atlantic/full_domain/hindcast/daily/regrid/r20230520/catalog.xml\n",
      "https://psl.noaa.gov/thredds/catalog/Projects/CEFI/regional_mom6/cefi_portal/northwest_atlantic/full_domain/hindcast/monthly/catalog.xml\n",
      "https://psl.noaa.gov/thredds/catalog/Projects/CEFI/regional_mom6/cefi_portal/northwest_atlantic/full_domain/hindcast/monthly/raw/catalog.xml\n",
      "https://psl.noaa.gov/thredds/catalog/Projects/CEFI/regional_mom6/cefi_portal/northwest_atlantic/full_domain/hindcast/monthly/raw/latest/catalog.xml\n",
      "https://psl.noaa.gov/thredds/catalog/Projects/CEFI/regional_mom6/cefi_portal/northwest_atlantic/full_domain/hindcast/monthly/raw/r20230520/catalog.xml\n",
      "https://psl.noaa.gov/thredds/catalog/Projects/CEFI/regional_mom6/cefi_portal/northwest_atlantic/full_domain/hindcast/monthly/regrid/catalog.xml\n",
      "https://psl.noaa.gov/thredds/catalog/Projects/CEFI/regional_mom6/cefi_portal/northwest_atlantic/full_domain/hindcast/monthly/regrid/latest/catalog.xml\n",
      "https://psl.noaa.gov/thredds/catalog/Projects/CEFI/regional_mom6/cefi_portal/northwest_atlantic/full_domain/hindcast/monthly/regrid/r20230520/catalog.xml\n",
      "https://psl.noaa.gov/thredds/catalog/Projects/CEFI/regional_mom6/cefi_portal/northwest_atlantic/full_domain/hindcast/yearly/catalog.xml\n",
      "https://psl.noaa.gov/thredds/catalog/Projects/CEFI/regional_mom6/cefi_portal/northwest_atlantic/full_domain/hindcast/yearly/raw/catalog.xml\n",
      "https://psl.noaa.gov/thredds/catalog/Projects/CEFI/regional_mom6/cefi_portal/northwest_atlantic/full_domain/hindcast/yearly/regrid/catalog.xml\n",
      "https://psl.noaa.gov/thredds/catalog/Projects/CEFI/regional_mom6/cefi_portal/northwest_atlantic/full_domain/long_term_projection/catalog.xml\n",
      "https://psl.noaa.gov/thredds/catalog/Projects/CEFI/regional_mom6/cefi_portal/northwest_atlantic/full_domain/long_term_projection/daily/catalog.xml\n",
      "https://psl.noaa.gov/thredds/catalog/Projects/CEFI/regional_mom6/cefi_portal/northwest_atlantic/full_domain/long_term_projection/daily/raw/catalog.xml\n",
      "https://psl.noaa.gov/thredds/catalog/Projects/CEFI/regional_mom6/cefi_portal/northwest_atlantic/full_domain/long_term_projection/daily/regrid/catalog.xml\n",
      "https://psl.noaa.gov/thredds/catalog/Projects/CEFI/regional_mom6/cefi_portal/northwest_atlantic/full_domain/long_term_projection/monthly/catalog.xml\n",
      "https://psl.noaa.gov/thredds/catalog/Projects/CEFI/regional_mom6/cefi_portal/northwest_atlantic/full_domain/long_term_projection/monthly/raw/catalog.xml\n",
      "https://psl.noaa.gov/thredds/catalog/Projects/CEFI/regional_mom6/cefi_portal/northwest_atlantic/full_domain/long_term_projection/monthly/regrid/catalog.xml\n",
      "https://psl.noaa.gov/thredds/catalog/Projects/CEFI/regional_mom6/cefi_portal/northwest_atlantic/full_domain/long_term_projection/yearly/catalog.xml\n",
      "https://psl.noaa.gov/thredds/catalog/Projects/CEFI/regional_mom6/cefi_portal/northwest_atlantic/full_domain/long_term_projection/yearly/raw/catalog.xml\n",
      "https://psl.noaa.gov/thredds/catalog/Projects/CEFI/regional_mom6/cefi_portal/northwest_atlantic/full_domain/long_term_projection/yearly/regrid/catalog.xml\n",
      "https://psl.noaa.gov/thredds/catalog/Projects/CEFI/regional_mom6/cefi_portal/northwest_atlantic/full_domain/seasonal_forecast/catalog.xml\n",
      "https://psl.noaa.gov/thredds/catalog/Projects/CEFI/regional_mom6/cefi_portal/northwest_atlantic/full_domain/seasonal_forecast/daily/catalog.xml\n",
      "https://psl.noaa.gov/thredds/catalog/Projects/CEFI/regional_mom6/cefi_portal/northwest_atlantic/full_domain/seasonal_forecast/daily/raw/catalog.xml\n",
      "https://psl.noaa.gov/thredds/catalog/Projects/CEFI/regional_mom6/cefi_portal/northwest_atlantic/full_domain/seasonal_forecast/daily/regrid/catalog.xml\n",
      "https://psl.noaa.gov/thredds/catalog/Projects/CEFI/regional_mom6/cefi_portal/northwest_atlantic/full_domain/seasonal_forecast/monthly/catalog.xml\n",
      "https://psl.noaa.gov/thredds/catalog/Projects/CEFI/regional_mom6/cefi_portal/northwest_atlantic/full_domain/seasonal_forecast/monthly/raw/catalog.xml\n",
      "https://psl.noaa.gov/thredds/catalog/Projects/CEFI/regional_mom6/cefi_portal/northwest_atlantic/full_domain/seasonal_forecast/monthly/raw/latest/catalog.xml\n",
      "https://psl.noaa.gov/thredds/catalog/Projects/CEFI/regional_mom6/cefi_portal/northwest_atlantic/full_domain/seasonal_forecast/monthly/raw/r20250212/catalog.xml\n",
      "https://psl.noaa.gov/thredds/catalog/Projects/CEFI/regional_mom6/cefi_portal/northwest_atlantic/full_domain/seasonal_forecast/monthly/regrid/catalog.xml\n",
      "https://psl.noaa.gov/thredds/catalog/Projects/CEFI/regional_mom6/cefi_portal/northwest_atlantic/full_domain/seasonal_forecast/monthly/regrid/latest/catalog.xml\n",
      "https://psl.noaa.gov/thredds/catalog/Projects/CEFI/regional_mom6/cefi_portal/northwest_atlantic/full_domain/seasonal_forecast/monthly/regrid/r20250212/catalog.xml\n",
      "https://psl.noaa.gov/thredds/catalog/Projects/CEFI/regional_mom6/cefi_portal/northwest_atlantic/full_domain/seasonal_forecast/yearly/catalog.xml\n",
      "https://psl.noaa.gov/thredds/catalog/Projects/CEFI/regional_mom6/cefi_portal/northwest_atlantic/full_domain/seasonal_forecast/yearly/raw/catalog.xml\n",
      "https://psl.noaa.gov/thredds/catalog/Projects/CEFI/regional_mom6/cefi_portal/northwest_atlantic/full_domain/seasonal_forecast/yearly/regrid/catalog.xml\n",
      "https://psl.noaa.gov/thredds/catalog/Projects/CEFI/regional_mom6/cefi_portal/northwest_atlantic/full_domain/seasonal_forecast_initialization/catalog.xml\n",
      "https://psl.noaa.gov/thredds/catalog/Projects/CEFI/regional_mom6/cefi_portal/northwest_atlantic/full_domain/seasonal_forecast_initialization/daily/catalog.xml\n",
      "https://psl.noaa.gov/thredds/catalog/Projects/CEFI/regional_mom6/cefi_portal/northwest_atlantic/full_domain/seasonal_forecast_initialization/daily/raw/catalog.xml\n",
      "https://psl.noaa.gov/thredds/catalog/Projects/CEFI/regional_mom6/cefi_portal/northwest_atlantic/full_domain/seasonal_forecast_initialization/daily/regrid/catalog.xml\n",
      "https://psl.noaa.gov/thredds/catalog/Projects/CEFI/regional_mom6/cefi_portal/northwest_atlantic/full_domain/seasonal_forecast_initialization/monthly/catalog.xml\n",
      "https://psl.noaa.gov/thredds/catalog/Projects/CEFI/regional_mom6/cefi_portal/northwest_atlantic/full_domain/seasonal_forecast_initialization/monthly/raw/catalog.xml\n",
      "https://psl.noaa.gov/thredds/catalog/Projects/CEFI/regional_mom6/cefi_portal/northwest_atlantic/full_domain/seasonal_forecast_initialization/monthly/regrid/catalog.xml\n",
      "https://psl.noaa.gov/thredds/catalog/Projects/CEFI/regional_mom6/cefi_portal/northwest_atlantic/full_domain/seasonal_forecast_initialization/yearly/catalog.xml\n",
      "https://psl.noaa.gov/thredds/catalog/Projects/CEFI/regional_mom6/cefi_portal/northwest_atlantic/full_domain/seasonal_forecast_initialization/yearly/raw/catalog.xml\n",
      "https://psl.noaa.gov/thredds/catalog/Projects/CEFI/regional_mom6/cefi_portal/northwest_atlantic/full_domain/seasonal_forecast_initialization/yearly/regrid/catalog.xml\n",
      "https://psl.noaa.gov/thredds/catalog/Projects/CEFI/regional_mom6/cefi_portal/northwest_atlantic/full_domain/seasonal_reforecast/catalog.xml\n",
      "https://psl.noaa.gov/thredds/catalog/Projects/CEFI/regional_mom6/cefi_portal/northwest_atlantic/full_domain/seasonal_reforecast/daily/catalog.xml\n",
      "https://psl.noaa.gov/thredds/catalog/Projects/CEFI/regional_mom6/cefi_portal/northwest_atlantic/full_domain/seasonal_reforecast/daily/raw/catalog.xml\n",
      "https://psl.noaa.gov/thredds/catalog/Projects/CEFI/regional_mom6/cefi_portal/northwest_atlantic/full_domain/seasonal_reforecast/daily/regrid/catalog.xml\n",
      "https://psl.noaa.gov/thredds/catalog/Projects/CEFI/regional_mom6/cefi_portal/northwest_atlantic/full_domain/seasonal_reforecast/monthly/catalog.xml\n",
      "https://psl.noaa.gov/thredds/catalog/Projects/CEFI/regional_mom6/cefi_portal/northwest_atlantic/full_domain/seasonal_reforecast/monthly/raw/catalog.xml\n",
      "https://psl.noaa.gov/thredds/catalog/Projects/CEFI/regional_mom6/cefi_portal/northwest_atlantic/full_domain/seasonal_reforecast/monthly/raw/latest/catalog.xml\n",
      "https://psl.noaa.gov/thredds/catalog/Projects/CEFI/regional_mom6/cefi_portal/northwest_atlantic/full_domain/seasonal_reforecast/monthly/raw/r20240213/catalog.xml\n",
      "https://psl.noaa.gov/thredds/catalog/Projects/CEFI/regional_mom6/cefi_portal/northwest_atlantic/full_domain/seasonal_reforecast/monthly/raw/r20250212/catalog.xml\n",
      "https://psl.noaa.gov/thredds/catalog/Projects/CEFI/regional_mom6/cefi_portal/northwest_atlantic/full_domain/seasonal_reforecast/monthly/regrid/catalog.xml\n",
      "https://psl.noaa.gov/thredds/catalog/Projects/CEFI/regional_mom6/cefi_portal/northwest_atlantic/full_domain/seasonal_reforecast/monthly/regrid/latest/catalog.xml\n",
      "https://psl.noaa.gov/thredds/catalog/Projects/CEFI/regional_mom6/cefi_portal/northwest_atlantic/full_domain/seasonal_reforecast/monthly/regrid/r20240213/catalog.xml\n",
      "https://psl.noaa.gov/thredds/catalog/Projects/CEFI/regional_mom6/cefi_portal/northwest_atlantic/full_domain/seasonal_reforecast/monthly/regrid/r20250212/catalog.xml\n",
      "https://psl.noaa.gov/thredds/catalog/Projects/CEFI/regional_mom6/cefi_portal/northwest_atlantic/full_domain/seasonal_reforecast/yearly/catalog.xml\n",
      "https://psl.noaa.gov/thredds/catalog/Projects/CEFI/regional_mom6/cefi_portal/northwest_atlantic/full_domain/seasonal_reforecast/yearly/raw/catalog.xml\n",
      "https://psl.noaa.gov/thredds/catalog/Projects/CEFI/regional_mom6/cefi_portal/northwest_atlantic/full_domain/seasonal_reforecast/yearly/regrid/catalog.xml\n"
     ]
    }
   ],
   "source": [
    "cat = TDSCatalog(catalog_root)\n",
    "get_datasets(cat)"
   ]
  }
 ],
 "metadata": {
  "kernelspec": {
   "display_name": "Python 3 (ipykernel)",
   "language": "python",
   "name": "python3"
  },
  "language_info": {
   "codemirror_mode": {
    "name": "ipython",
    "version": 3
   },
   "file_extension": ".py",
   "mimetype": "text/x-python",
   "name": "python",
   "nbconvert_exporter": "python",
   "pygments_lexer": "ipython3",
   "version": "3.12.6"
  }
 },
 "nbformat": 4,
 "nbformat_minor": 5
}
