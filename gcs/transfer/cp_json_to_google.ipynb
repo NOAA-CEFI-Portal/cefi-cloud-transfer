{
 "cells": [
  {
   "cell_type": "code",
   "execution_count": null,
   "id": "3cc6bbeb-3ff4-4363-8982-98f27300da7b",
   "metadata": {},
   "outputs": [],
   "source": [
    "from siphon.catalog import TDSCatalog\n",
    "from pathlib import Path\n",
    "from google.cloud import storage\n",
    "import io, os\n",
    "import fsspec\n",
    "import urllib.request\n",
    "from urllib.parse import urlparse\n",
    "from pathlib import Path\n",
    "import time\n",
    "from dotenv import load_dotenv"
   ]
  },
  {
   "cell_type": "code",
   "execution_count": null,
   "id": "b83cd3a9-f136-42f5-bb03-39d17b14b54b",
   "metadata": {},
   "outputs": [],
   "source": [
    "load_dotenv(os.path.expanduser('~/.cefi_env'))"
   ]
  },
  {
   "cell_type": "code",
   "execution_count": null,
   "id": "ded99118-522b-449a-97e1-2365278d8162",
   "metadata": {},
   "outputs": [],
   "source": [
    "bucket_name = 'noaa-oar-cefi-regional-mom6'\n",
    "project_id = os.getenv(\"GOOGLE_PROJECT_ID\")\n",
    "storage_client = storage.Client.from_service_account_json(os.getenv(\"GOOGLE_APPLICATION_CREDENTIALS\"))\n",
    "bucket = storage_client.get_bucket(bucket_name)"
   ]
  },
  {
   "cell_type": "code",
   "execution_count": null,
   "id": "e5e65cd3-b866-477c-8c02-8b565c95b8a4",
   "metadata": {},
   "outputs": [],
   "source": [
    "dirs = [\n",
    "    'northwest_atlantic/full_domain/hindcast/daily/raw/r20230520/',\n",
    "    'northwest_atlantic/full_domain/hindcast/daily/regrid/r20230520/',\n",
    "    'northwest_atlantic/full_domain/hindcast/monthly/raw/r20230520/',\n",
    "    'northwest_atlantic/full_domain/hindcast/monthly/regrid/r20230520/',\n",
    "    'northwest_atlantic/full_domain/seasonal_forecast/monthly/raw/r20250212/',\n",
    "    'northwest_atlantic/full_domain/seasonal_forecast/monthly/regrid/r20250212/',\n",
    "    'northwest_atlantic/full_domain/seasonal_reforecast/monthly/raw/r20250212/',\n",
    "    'northwest_atlantic/full_domain/seasonal_reforecast/monthly/regrid/r20250212/',\n",
    "]\n",
    "# dirs = [\n",
    "#     'northeast_pacific/full_domain/hindcast/daily/raw/r20241015/',\n",
    "#     'northeast_pacific/full_domain/hindcast/daily/regrid/r20241015/',\n",
    "#     'northeast_pacific/full_domain/hindcast/monthly/raw/r20241015/',\n",
    "#     'northeast_pacific/full_domain/hindcast/monthly/regrid/r20241015/'\n",
    "# ]"
   ]
  },
  {
   "cell_type": "code",
   "execution_count": null,
   "id": "b534b99d-80ba-4b4b-a701-4963ec412901",
   "metadata": {},
   "outputs": [],
   "source": [
    "# N.B. These files are small so I don't check whether they exist, I just copy them which will replace what's there.\n",
    "for dir in dirs:\n",
    "    fs_read = fsspec.filesystem('file')\n",
    "    flist = fs_read.glob(f'{dir}all.json')\n",
    "    for outfile in flist:\n",
    "        destination_blob_name = outfile[outfile.find('northwest'):]\n",
    "        blob = bucket.blob(destination_blob_name)\n",
    "        blob.upload_from_filename(outfile, content_type='application/json')"
   ]
  }
 ],
 "metadata": {
  "kernelspec": {
   "display_name": "Python 3 (ipykernel)",
   "language": "python",
   "name": "python3"
  },
  "language_info": {
   "codemirror_mode": {
    "name": "ipython",
    "version": 3
   },
   "file_extension": ".py",
   "mimetype": "text/x-python",
   "name": "python",
   "nbconvert_exporter": "python",
   "pygments_lexer": "ipython3",
   "version": "3.12.6"
  }
 },
 "nbformat": 4,
 "nbformat_minor": 5
}
