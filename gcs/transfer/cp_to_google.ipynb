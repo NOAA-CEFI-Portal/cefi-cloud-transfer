{
 "cells": [
  {
   "cell_type": "markdown",
   "id": "e1e7fa83-c259-4e01-9763-0692e207bb33",
   "metadata": {},
   "source": [
    "You will need a Google Cloud service account with permission to write the bucket. That account will be assocated with a project."
   ]
  },
  {
   "cell_type": "code",
   "execution_count": null,
   "id": "5fe6ec67-e0af-442a-8256-2cb04e228bc3",
   "metadata": {},
   "outputs": [],
   "source": [
    "from siphon.catalog import TDSCatalog\n",
    "from pathlib import Path\n",
    "from google.cloud import storage\n",
    "import io, os\n",
    "import urllib.request\n",
    "from urllib.parse import urlparse\n",
    "from pathlib import Path\n",
    "from dotenv import load_dotenv"
   ]
  },
  {
   "cell_type": "code",
   "execution_count": null,
   "id": "b418e52d-9c5b-4cb6-be9b-1d0d716d96f4",
   "metadata": {},
   "outputs": [],
   "source": [
    "load_dotenv(os.path.expanduser('~/.cefi_env'))"
   ]
  },
  {
   "cell_type": "code",
   "execution_count": null,
   "id": "a04edb44-6108-4ab6-96f6-45faae78a399",
   "metadata": {},
   "outputs": [],
   "source": [
    "bucket_name = 'noaa-oar-cefi-regional-mom6'\n",
    "project_id = os.getenv(\"GOOGLE_PROJECT_ID\")\n",
    "storage_client = storage.Client.from_service_account_json(os.getenv(\"GOOGLE_APPLICATION_CREDENTIALS\"))\n",
    "bucket = storage_client.get_bucket(bucket_name)"
   ]
  },
  {
   "cell_type": "code",
   "execution_count": null,
   "id": "e5e65cd3-b866-477c-8c02-8b565c95b8a4",
   "metadata": {},
   "outputs": [],
   "source": [
    "match = 'cefi_portal'\n",
    "catalog_root = 'https://psl.noaa.gov/thredds/catalog/Projects/CEFI/regional_mom6/cefi_portal/northeast_pacific/full_domain/catalog.xml'\n",
    "\n",
    "catalog_prefix_index = catalog_root.find(match)\n",
    "catalog_replace = catalog_root[:catalog_prefix_index + len(match) + 1]\n",
    "print(catalog_replace)"
   ]
  },
  {
   "cell_type": "code",
   "execution_count": null,
   "id": "b534b99d-80ba-4b4b-a701-4963ec412901",
   "metadata": {},
   "outputs": [],
   "source": [
    "def get_datasets(root, total):\n",
    "    if root.datasets and 'latest' not in root.catalog_url and 'r20240213' not in root.catalog_url:\n",
    "        downloads = 0\n",
    "        for dataset in root.datasets:\n",
    "            access_url = root.datasets[dataset].access_urls['HTTPServer']\n",
    "            dataset_prefix = access_url.find(match)\n",
    "            url_replace = access_url[:dataset_prefix + len(match) + 1]\n",
    "            outfile = access_url.replace(url_replace,'')\n",
    "            downloads = downloads  + 1\n",
    "            file_path = Path(outfile)\n",
    "            file_path.parent.mkdir(parents=True, exist_ok=True)\n",
    "            destination_blob_name = outfile\n",
    "            blob = bucket.blob(destination_blob_name)\n",
    "            if not blob.exists():\n",
    "                urllib.request.urlretrieve(access_url, outfile)\n",
    "                blob.upload_from_filename(outfile, content_type='application/x-netcdf')\n",
    "                os.remove(outfile)\n",
    "        if downloads > 0:\n",
    "            total = total + downloads\n",
    "            print(root.catalog_url)\n",
    "            print(f'Downloaded {downloads} files.')\n",
    "    for catalog in root.catalog_refs:\n",
    "        child = root.catalog_refs[catalog].follow()\n",
    "        total = get_datasets(child, total)\n",
    "    return total"
   ]
  },
  {
   "cell_type": "code",
   "execution_count": null,
   "id": "d7999604-6367-4c29-8c15-d119f415242e",
   "metadata": {},
   "outputs": [],
   "source": [
    "cat = TDSCatalog(catalog_root)\n",
    "total = 0\n",
    "total = get_datasets(cat, total)\n",
    "print(f'Total number of files transferred = {total}')"
   ]
  }
 ],
 "metadata": {
  "kernelspec": {
   "display_name": "Python 3 (ipykernel)",
   "language": "python",
   "name": "python3"
  },
  "language_info": {
   "codemirror_mode": {
    "name": "ipython",
    "version": 3
   },
   "file_extension": ".py",
   "mimetype": "text/x-python",
   "name": "python",
   "nbconvert_exporter": "python",
   "pygments_lexer": "ipython3",
   "version": "3.12.6"
  }
 },
 "nbformat": 4,
 "nbformat_minor": 5
}
