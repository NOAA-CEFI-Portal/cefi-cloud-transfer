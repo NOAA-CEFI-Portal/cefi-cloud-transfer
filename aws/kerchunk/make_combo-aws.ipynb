{
 "cells": [
  {
   "cell_type": "code",
   "execution_count": 1,
   "id": "48f6af76-2618-4477-ba3c-35280e87e882",
   "metadata": {},
   "outputs": [],
   "source": [
    "from kerchunk.hdf import SingleHdf5ToZarr\n",
    "from kerchunk.combine import MultiZarrToZarr\n",
    "import fsspec\n",
    "import os\n",
    "import ujson\n",
    "from pathlib import Path\n",
    "import xarray as xr\n",
    "import numpy as np"
   ]
  },
  {
   "cell_type": "code",
   "execution_count": 9,
   "id": "7427c409-4bbc-478e-b056-cbce2e47511a",
   "metadata": {},
   "outputs": [],
   "source": [
    "fs = fsspec.filesystem('s3')\n",
    "fs2 = fsspec.filesystem('')\n",
    "dirs = [\n",
    "    'northwest_atlantic/full_domain/seasonal_reforecast/monthly/raw/r20250212/',\n",
    "    'northwest_atlantic/full_domain/seasonal_reforecast/monthly/regrid/r20250212/',\n",
    "]"
   ]
  },
  {
   "cell_type": "code",
   "execution_count": 10,
   "id": "51c9d4ec-2b64-42d0-880d-a1aad23adcac",
   "metadata": {},
   "outputs": [],
   "source": [
    "def fn_to_time(index, fs, var, fn):\n",
    "    import re\n",
    "    import datetime\n",
    "    subst = re.search(r'.*i([0-9][0-9][0-9][0-9][0-9][0-9]).json', fn).groups()[0]\n",
    "    subst = subst + '01000000.000000'\n",
    "    return datetime.datetime.strptime(subst, '%Y%m%d%H%M%S.%f')"
   ]
  },
  {
   "cell_type": "code",
   "execution_count": 13,
   "id": "99e4f4c6-e30e-4054-b2b8-b452347e7167",
   "metadata": {},
   "outputs": [],
   "source": [
    "for directory in dirs:\n",
    "    flist = fs.glob(f's3://noaa-oar-cefi-regional-mom6-pds/{directory}[s-z]*.json')\n",
    "    flist = ['s3://' + s for s in flist]\n",
    "    if 'raw' in dir:\n",
    "        identical_dims = ['yh', 'xh', 'lead', 'member'] # raw\n",
    "    else:\n",
    "        identical_dims = ['lat', 'lon', 'lead', 'member'] #regrid\n",
    "    os.makedirs(directory, exist_ok=True)\n",
    "    mzz = MultiZarrToZarr(flist,  \n",
    "        coo_map={'init_time': fn_to_time},\n",
    "        coo_dtypes={'init_time': np.dtype('M8[ns]')},\n",
    "        concat_dims=['init_time'],\n",
    "        identical_dims = identical_dims\n",
    "    )\n",
    "    d = mzz.translate()\n",
    "    with fs2.open(f'{directory}/all.json', 'wb') as f:\n",
    "        f.write(ujson.dumps(d).encode())"
   ]
  }
 ],
 "metadata": {
  "kernelspec": {
   "display_name": "Python 3 (ipykernel)",
   "language": "python",
   "name": "python3"
  },
  "language_info": {
   "codemirror_mode": {
    "name": "ipython",
    "version": 3
   },
   "file_extension": ".py",
   "mimetype": "text/x-python",
   "name": "python",
   "nbconvert_exporter": "python",
   "pygments_lexer": "ipython3",
   "version": "3.12.6"
  }
 },
 "nbformat": 4,
 "nbformat_minor": 5
}
