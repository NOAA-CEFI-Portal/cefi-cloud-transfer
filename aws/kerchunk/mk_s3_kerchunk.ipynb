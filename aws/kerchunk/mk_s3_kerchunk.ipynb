{
 "cells": [
  {
   "cell_type": "code",
   "execution_count": 1,
   "id": "4344de56-7767-4686-910b-6b1c6b4089e3",
   "metadata": {},
   "outputs": [],
   "source": [
    "from kerchunk.hdf import SingleHdf5ToZarr\n",
    "from kerchunk.netCDF3 import NetCDF3ToZarr\n",
    "from kerchunk.combine import MultiZarrToZarr\n",
    "import fsspec\n",
    "import os\n",
    "import ujson\n",
    "from pathlib import Path\n",
    "import xarray as xr\n",
    "import numpy as np"
   ]
  },
  {
   "cell_type": "code",
   "execution_count": 2,
   "id": "b15f4f7c-176c-4324-90b3-2e61b8813417",
   "metadata": {},
   "outputs": [],
   "source": [
    "fs = fsspec.filesystem('s3')\n",
    "dirs = [\n",
    "    'northwest_atlantic/full_domain/hindcast/daily/raw/r20230520/',\n",
    "    'northwest_atlantic/full_domain/hindcast/daily/regrid/r20230520/',\n",
    "    'northwest_atlantic/full_domain/hindcast/monthly/raw/r20230520/',\n",
    "    'northwest_atlantic/full_domain/hindcast/monthly/regrid/r20230520/',\n",
    "    'northwest_atlantic/full_domain/seasonal_forecast/monthly/raw/r20250212/',\n",
    "    'northwest_atlantic/full_domain/seasonal_forecast/monthly/regrid/r20250212/',\n",
    "    'northwest_atlantic/full_domain/seasonal_reforecast/monthly/raw/r20250212/',\n",
    "    'northwest_atlantic/full_domain/seasonal_reforecast/monthly/regrid/r20250212/',\n",
    "]"
   ]
  },
  {
   "cell_type": "code",
   "execution_count": 3,
   "id": "7d734649-253b-4174-8dd1-8df04cffa67a",
   "metadata": {},
   "outputs": [],
   "source": [
    "def write_chunks(u):\n",
    "    u = 's3://' + u\n",
    "    parts = u.split('/') # seperate file path to create a unique name for each json \n",
    "    fstem = Path(u).stem  \n",
    "    outf = f'{tdir}/{fstem}.json'\n",
    "    # Only write it does not exist and is not \n",
    "    if not os.path.exists(outf) or not (os.path.getsize(outf) > 0):\n",
    "        try:\n",
    "            dachunks = SingleHdf5ToZarr(u)\n",
    "        except Exception as e:\n",
    "            # These static files are old school netcdf 3 files, so try that\n",
    "            print(f'Trying netCDF 3 on {u}')\n",
    "            dachunks = NetCDF3ToZarr(u)\n",
    "        with fs2.open(outf, 'wb') as f:\n",
    "            f.write(ujson.dumps(dachunks.translate()).encode());"
   ]
  },
  {
   "cell_type": "code",
   "execution_count": 4,
   "id": "9822a64b-d6e5-4b8b-b9f9-45dfa8d3215e",
   "metadata": {},
   "outputs": [
    {
     "name": "stdout",
     "output_type": "stream",
     "text": [
      "Making chunks for northwest_atlantic/full_domain/hindcast/daily/raw/r20230520/ with 24 files\n",
      "Making chunks for northwest_atlantic/full_domain/hindcast/daily/regrid/r20230520/ with 20 files\n",
      "Making chunks for northwest_atlantic/full_domain/hindcast/monthly/raw/r20230520/ with 492 files\n",
      "Making chunks for northwest_atlantic/full_domain/hindcast/monthly/regrid/r20230520/ with 452 files\n",
      "Making chunks for northwest_atlantic/full_domain/seasonal_forecast/monthly/raw/r20250212/ with 4 files\n",
      "Making chunks for northwest_atlantic/full_domain/seasonal_forecast/monthly/regrid/r20250212/ with 3 files\n",
      "Making chunks for northwest_atlantic/full_domain/seasonal_reforecast/monthly/raw/r20250212/ with 361 files\n",
      "Making chunks for northwest_atlantic/full_domain/seasonal_reforecast/monthly/regrid/r20250212/ with 360 files\n"
     ]
    }
   ],
   "source": [
    "for tdir in dirs:\n",
    "    glob=f's3://noaa-oar-cefi-regional-mom6-pds/{tdir}*.nc'\n",
    "    flist = fs.glob(glob)\n",
    "    os.makedirs(tdir, exist_ok=True)\n",
    "    fs2 = fsspec.filesystem(\"file\")\n",
    "    so = dict(default_fill_cache=False, default_cache_type='first')\n",
    "    print(f'Making chunks for {tdir} with {len(flist)} files')\n",
    "    for u in flist:\n",
    "        write_chunks(u)"
   ]
  }
 ],
 "metadata": {
  "kernelspec": {
   "display_name": "Python 3",
   "language": "python",
   "name": "python3"
  },
  "language_info": {
   "codemirror_mode": {
    "name": "ipython",
    "version": 3
   },
   "file_extension": ".py",
   "mimetype": "text/x-python",
   "name": "python",
   "nbconvert_exporter": "python",
   "pygments_lexer": "ipython3",
   "version": "3.11.11"
  }
 },
 "nbformat": 4,
 "nbformat_minor": 5
}
