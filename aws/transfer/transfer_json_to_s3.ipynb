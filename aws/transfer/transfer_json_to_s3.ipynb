{
 "cells": [
  {
   "cell_type": "code",
   "execution_count": null,
   "id": "679e402e-abfb-422e-9d4d-c7348be7bba8",
   "metadata": {},
   "outputs": [],
   "source": [
    "import boto3 \n",
    "import os \n",
    "from dotenv import load_dotenv\n",
    "from fsspec.implementations.local import LocalFileSystem\n",
    "\n",
    "load_dotenv(os.path.expanduser('~/.cefi_env')) # this loads the .env file with our credentials"
   ]
  },
  {
   "cell_type": "code",
   "execution_count": null,
   "id": "3bce4288-6bdf-4a4f-a9d8-c8b04749693c",
   "metadata": {},
   "outputs": [],
   "source": [
    "fs = LocalFileSystem()\n",
    "dirs = [\n",
    "    'northwest_atlantic/full_domain/hindcast/daily/raw/r20230520/',\n",
    "    'northwest_atlantic/full_domain/hindcast/daily/regrid/r20230520/',\n",
    "    'northwest_atlantic/full_domain/hindcast/monthly/raw/r20230520/',\n",
    "    'northwest_atlantic/full_domain/hindcast/monthly/regrid/r20230520/',\n",
    "    'northwest_atlantic/full_domain/seasonal_forecast/monthly/raw/r20250212/',\n",
    "    'northwest_atlantic/full_domain/seasonal_forecast/monthly/regrid/r20250212/',\n",
    "    'northwest_atlantic/full_domain/seasonal_reforecast/monthly/raw/r20250212/',\n",
    "    'northwest_atlantic/full_domain/seasonal_reforecast/monthly/regrid/r20250212/',\n",
    "]"
   ]
  },
  {
   "cell_type": "code",
   "execution_count": null,
   "id": "de89206b-8524-4006-87f5-eeb982e6de60",
   "metadata": {},
   "outputs": [],
   "source": [
    "bucket_name = 'noaa-oar-cefi-regional-mom6-pds'\n",
    "for dir in dirs:\n",
    "    glob = dir+'*.json'\n",
    "    flist = fs.glob(glob)\n",
    "    for file in flist:\n",
    "        file_name = file.replace('/home/rhs/cefi-aws/notebooks/','')\n",
    "            \n",
    "        s3_client = boto3.client(\n",
    "            's3',\n",
    "            aws_access_key_id=os.getenv('NODD_KEY_ID'),\n",
    "            aws_secret_access_key=os.getenv('NODD_SECRET')\n",
    "        )\n",
    "        \n",
    "        response = s3_client.upload_file(file_name, bucket_name, file_name)"
   ]
  }
 ],
 "metadata": {
  "kernelspec": {
   "display_name": "Python 3 (ipykernel)",
   "language": "python",
   "name": "python3"
  },
  "language_info": {
   "codemirror_mode": {
    "name": "ipython",
    "version": 3
   },
   "file_extension": ".py",
   "mimetype": "text/x-python",
   "name": "python",
   "nbconvert_exporter": "python",
   "pygments_lexer": "ipython3",
   "version": "3.12.6"
  }
 },
 "nbformat": 4,
 "nbformat_minor": 5
}
